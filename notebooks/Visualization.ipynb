{
 "cells": [
  {
   "cell_type": "code",
   "execution_count": null,
   "outputs": [],
   "source": [
    "from IPython.core.display import display, HTML\n",
    "display(HTML(\"<style>.container { width:90% !important; }</style>\"))"
   ],
   "metadata": {
    "collapsed": false,
    "pycharm": {
     "name": "#%%\n"
    }
   }
  },
  {
   "cell_type": "code",
   "execution_count": null,
   "outputs": [],
   "source": [
    "%load_ext autoreload\n",
    "%autoreload"
   ],
   "metadata": {
    "collapsed": false,
    "pycharm": {
     "name": "#%%\n"
    }
   }
  },
  {
   "cell_type": "code",
   "execution_count": null,
   "outputs": [],
   "source": [
    "import matplotlib.pyplot as plt\n",
    "from ray.tune import ExperimentAnalysis\n",
    "\n",
    "import sys\n",
    "sys.path.append('../')\n",
    "\n",
    "from helpers import plot_all\n",
    "\n",
    "import warnings\n",
    "warnings.filterwarnings('ignore')"
   ],
   "metadata": {
    "collapsed": false,
    "pycharm": {
     "name": "#%%\n"
    }
   }
  },
  {
   "cell_type": "markdown",
   "source": [
    "## Import results"
   ],
   "metadata": {
    "collapsed": false
   }
  },
  {
   "cell_type": "code",
   "execution_count": null,
   "outputs": [],
   "source": [
    "env = \"ball_in_cup\"\n",
    "\n",
    "agents = [\n",
    "    \"SAC\",\n",
    "    \"SAG\",\n",
    "    \"PIG\",\n",
    "    \"PAG\"\n",
    "]\n",
    "\n",
    "experts = [\n",
    "    \"MediumSAC\",\n",
    "]\n",
    "\n",
    "hps = [\n",
    "    \"activation_fn\",\n",
    "    \"betas\",\n",
    "    \"decay_rate\"\n",
    "]\n",
    "\n",
    "metric = \"mean_avg_return\"\n",
    "mode = \"max\"\n",
    "n_epochs = 2000"
   ],
   "metadata": {
    "collapsed": false,
    "pycharm": {
     "name": "#%%\n"
    }
   }
  },
  {
   "cell_type": "code",
   "execution_count": null,
   "outputs": [],
   "source": [
    "plt.figure(figsize=(8, 6))\n",
    "\n",
    "plot_all(env, \n",
    "         agents, \n",
    "         experts, \n",
    "         rolling_mean=0.05,\n",
    "         init_path=\"..\", \n",
    "         hps=hps, \n",
    "         set_hyperparam={'pos_tol': 1.7},\n",
    "         chosen_max=2000,\n",
    "         n_epochs=2000,\n",
    "         metric=\"mean_avg_return\", \n",
    "         mode=\"max\", \n",
    "         to_plot=\"final\")\n",
    "\n",
    "plt.xlabel(\"epochs (one epoch = one episode = 1000 steps)\")\n",
    "plt.ylabel(\"Average return over 5 seeds\")\n",
    "plt.title(\"Ball in Cup\")\n",
    "\n",
    "plt.show()"
   ],
   "metadata": {
    "collapsed": false,
    "pycharm": {
     "name": "#%%\n"
    }
   }
  }
 ],
 "metadata": {
  "kernelspec": {
   "display_name": "Python 3 (ipykernel)",
   "language": "python",
   "name": "python3"
  },
  "language_info": {
   "codemirror_mode": {
    "name": "ipython",
    "version": 3
   },
   "file_extension": ".py",
   "mimetype": "text/x-python",
   "name": "python",
   "nbconvert_exporter": "python",
   "pygments_lexer": "ipython3",
   "version": "3.8.12"
  }
 },
 "nbformat": 4,
 "nbformat_minor": 1
}